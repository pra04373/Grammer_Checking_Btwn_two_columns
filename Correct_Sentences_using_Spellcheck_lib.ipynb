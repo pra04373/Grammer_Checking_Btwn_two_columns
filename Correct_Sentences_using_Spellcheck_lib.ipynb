{
 "cells": [
  {
   "cell_type": "code",
   "execution_count": 1,
   "metadata": {},
   "outputs": [],
   "source": [
    "import pandas as pd\n",
    "import numpy as np\n",
    "import nltk\n",
    "from nltk.corpus import stopwords\n",
    "from sklearn.metrics.pairwise import cosine_similarity"
   ]
  },
  {
   "cell_type": "code",
   "execution_count": 2,
   "metadata": {},
   "outputs": [],
   "source": [
    "# Import Data\n",
    "df=pd.read_csv('C:\\\\Users\\\\mypc\\\\Desktop\\\\Sample_Sentence_Similarity.csv',encoding= 'unicode_escape')\n",
    "\n",
    "# Check for null values\n",
    "df[df.isnull().any(axis=1)]\n",
    " \n",
    "# Drop rows with null Values\n",
    "df.drop(df[df.isnull().any(axis=1)].index,inplace=True)"
   ]
  },
  {
   "cell_type": "code",
   "execution_count": 12,
   "metadata": {},
   "outputs": [
    {
     "data": {
      "text/plain": [
       "(98, 4)"
      ]
     },
     "execution_count": 12,
     "metadata": {},
     "output_type": "execute_result"
    }
   ],
   "source": [
    "df.shape"
   ]
  },
  {
   "cell_type": "code",
   "execution_count": 3,
   "metadata": {},
   "outputs": [],
   "source": [
    "# remove unwanted characters, numbers and symbols\n",
    "df['questions1'] = df['questions1'].str.replace(\"[^a-zA-Z#]\", \" \")\n",
    "\n",
    "# remove unwanted characters, numbers and symbols\n",
    "df['questions2'] = df['questions2'].str.replace(\"[^a-zA-Z#]\", \" \")"
   ]
  },
  {
   "cell_type": "code",
   "execution_count": 4,
   "metadata": {},
   "outputs": [],
   "source": [
    "# remove unwanted characters, numbers and symbols\n",
    "df['Pos1'] = df['Pos1'].str.replace(\"[^a-zA-Z#]\", \" \")\n",
    "\n",
    "# remove unwanted characters, numbers and symbols\n",
    "df['Pos2'] = df['Pos2'].str.replace(\"[^a-zA-Z#]\", \" \")"
   ]
  },
  {
   "cell_type": "code",
   "execution_count": 6,
   "metadata": {},
   "outputs": [],
   "source": [
    "#duplicate words from dataframe library import\n",
    "from collections import OrderedDict\n",
    "\n",
    "\n",
    "#duplicatewrods from dataframe\n",
    "df['questions2'] = (df['questions2'].str.split()\n",
    "                              .apply(lambda x: OrderedDict.fromkeys(x).keys())\n",
    "                              .str.join(' '))\n",
    "\n",
    "#duplicatewrods from dataframe\n",
    "\n",
    "df['questions1'] = (df['questions1'].str.split()\n",
    "                              .apply(lambda x: OrderedDict.fromkeys(x).keys())\n",
    "                              .str.join(' '))\n",
    "\n",
    "df['Pos1'] = (df['Pos1'].str.split()\n",
    "                              .apply(lambda x: OrderedDict.fromkeys(x).keys())\n",
    "                              .str.join(' '))\n",
    "\n",
    "df['Pos2'] = (df['Pos2'].str.split()\n",
    "                              .apply(lambda x: OrderedDict.fromkeys(x).keys())\n",
    "                              .str.join(' '))"
   ]
  },
  {
   "cell_type": "code",
   "execution_count": 16,
   "metadata": {},
   "outputs": [
    {
     "name": "stdout",
     "output_type": "stream",
     "text": [
      "Collecting pyspellchecker\n",
      "  Downloading pyspellchecker-0.5.4-py2.py3-none-any.whl (1.9 MB)\n",
      "Installing collected packages: pyspellchecker\n",
      "Successfully installed pyspellchecker-0.5.4\n"
     ]
    }
   ],
   "source": [
    "!pip install pyspellchecker"
   ]
  },
  {
   "cell_type": "code",
   "execution_count": 17,
   "metadata": {},
   "outputs": [],
   "source": [
    "from spellchecker import SpellChecker\n",
    "\n",
    "spell  = SpellChecker()"
   ]
  },
  {
   "cell_type": "code",
   "execution_count": 19,
   "metadata": {},
   "outputs": [],
   "source": [
    "def spell_check(x):\n",
    "    correct_word = []\n",
    "    mispelled_word = x.split()\n",
    "    for word in mispelled_word:\n",
    "        correct_word.append(spell.correction(word))\n",
    "    return ' '.join(correct_word)"
   ]
  },
  {
   "cell_type": "code",
   "execution_count": 21,
   "metadata": {},
   "outputs": [
    {
     "data": {
      "text/plain": [
       "0     are significances practical approach sugarcane...\n",
       "1     wetland international importance is brought Mo...\n",
       "2     following pairs islands is separated other Ten...\n",
       "3     Consider following pairs Programme Project Min...\n",
       "4     reference Bombay Natural History Society BNHS ...\n",
       "                            ...                        \n",
       "94    Consider following statements Animal Welfare B...\n",
       "95    Consider following pairs Vitamin De ciency dis...\n",
       "96    is concern regarding nanoparticles chemical el...\n",
       "97    following organizations brings publication kno...\n",
       "98    reference Union Budget following is are covere...\n",
       "Name: questions1, Length: 98, dtype: object"
      ]
     },
     "execution_count": 21,
     "metadata": {},
     "output_type": "execute_result"
    }
   ],
   "source": [
    "df['questions1']"
   ]
  },
  {
   "cell_type": "code",
   "execution_count": 31,
   "metadata": {
    "scrolled": true
   },
   "outputs": [],
   "source": [
    "test = df.questions2.apply(lambda x: spell_check(x))"
   ]
  },
  {
   "cell_type": "code",
   "execution_count": 30,
   "metadata": {},
   "outputs": [],
   "source": [
    "questions1 = df.questions1.apply(lambda x: spell_check(x))"
   ]
  },
  {
   "cell_type": "code",
   "execution_count": null,
   "metadata": {},
   "outputs": [],
   "source": [
    "t = [['test','questions1']]"
   ]
  },
  {
   "cell_type": "code",
   "execution_count": 27,
   "metadata": {},
   "outputs": [
    {
     "name": "stdout",
     "output_type": "stream",
     "text": [
      "0     the following Presidents India was Secretary G...\n",
      "1     Match List II selectnthc correct answer using ...\n",
      "2     integrate cultural leaders meetings following ...\n",
      "3     India following States has largest inland sali...\n",
      "4     Consider following statements mmc Limited is I...\n",
      "                            ...                        \n",
      "94    person has coins different denomination is the...\n",
      "95                          many numbers lie comes time\n",
      "96    many letters English alphabet capitals appear ...\n",
      "97    many threedigit numbers be generated such digi...\n",
      "98    are persons A B C D has coins gave half more b...\n",
      "Name: questions2, Length: 98, dtype: object\n"
     ]
    }
   ],
   "source": [
    "print(test)"
   ]
  },
  {
   "cell_type": "code",
   "execution_count": 28,
   "metadata": {},
   "outputs": [],
   "source": [
    "#saving the output to CSV file\n",
    "test.to_csv('grammer1.csv') "
   ]
  }
 ],
 "metadata": {
  "kernelspec": {
   "display_name": "Python 3",
   "language": "python",
   "name": "python3"
  },
  "language_info": {
   "codemirror_mode": {
    "name": "ipython",
    "version": 3
   },
   "file_extension": ".py",
   "mimetype": "text/x-python",
   "name": "python",
   "nbconvert_exporter": "python",
   "pygments_lexer": "ipython3",
   "version": "3.7.7"
  }
 },
 "nbformat": 4,
 "nbformat_minor": 4
}
